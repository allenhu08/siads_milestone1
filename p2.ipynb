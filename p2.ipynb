version https://git-lfs.github.com/spec/v1
oid sha256:c88daf82e0f2b0a7a1d3f6b4b548a372805d2b5b70412d6a7b7c861d4fedfe2a
size 6452436
