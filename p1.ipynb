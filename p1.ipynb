version https://git-lfs.github.com/spec/v1
oid sha256:28a2a180425edbeb5a45d5434985262abfa246f71867d3c909c1ad8722d317ae
size 112021491
