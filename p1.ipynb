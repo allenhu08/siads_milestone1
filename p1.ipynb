version https://git-lfs.github.com/spec/v1
oid sha256:9df007ef04aebbf3e27e5b433696b2df39f49bdd383c13beff6083003337d959
size 112506813
