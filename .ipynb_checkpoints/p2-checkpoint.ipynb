version https://git-lfs.github.com/spec/v1
oid sha256:b300c0522621ad9e6996e489a381cb75e56b83ba2190d49263a59873fcaf4679
size 48149
