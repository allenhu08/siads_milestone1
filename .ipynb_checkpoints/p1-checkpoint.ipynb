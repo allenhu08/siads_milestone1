version https://git-lfs.github.com/spec/v1
oid sha256:4da3c0d789ec3cad4e1a3894db98392630a21201057c626b5a28ad91694ef186
size 112020779
